{
 "cells": [
  {
   "cell_type": "code",
   "execution_count": 1,
   "metadata": {},
   "outputs": [
    {
     "data": {
      "text/plain": [
       "(array([8, 0, 8, 8, 0, 5, 4, 2, 6, 5, 8, 2, 1, 6]),\n",
       " array([7, 8, 3, 1, 3, 2, 5, 6, 0, 6, 2, 0, 7, 5]))"
      ]
     },
     "execution_count": 1,
     "metadata": {},
     "output_type": "execute_result"
    }
   ],
   "source": [
    "import numpy as np\n",
    "import matplotlib.pyplot as plt\n",
    "import matplotlib.colors as cols\n",
    "import matplotlib.cm as cm\n",
    "\n",
    "SingleDim = 9\n",
    "UNOCCUPIED = 0\n",
    "\n",
    "board = np.zeros(shape=(SingleDim,SingleDim), dtype=int)\n",
    "board[0,2] = 1\n",
    "board[2,1] = 1\n",
    "\n",
    "vacant = board == UNOCCUPIED\n",
    "\n",
    "vacant_i = np.array(list(zip(*np.nonzero(vacant))))\n",
    "v2 = vacant_i.copy()\n",
    "np.random.shuffle(v2)\n",
    "v2 = v2[:14]\n",
    "v2[:,0], v2[:,1]"
   ]
  },
  {
   "cell_type": "code",
   "execution_count": 2,
   "metadata": {},
   "outputs": [],
   "source": [
    "board[v2[:,0], v2[:,1]] = [7,2,3,4,5,6,7,2,3,4,5,6,1,1]"
   ]
  },
  {
   "cell_type": "code",
   "execution_count": 3,
   "metadata": {},
   "outputs": [
    {
     "data": {
      "text/plain": [
       "<matplotlib.collections.PathCollection at 0x7f6d2a028f28>"
      ]
     },
     "execution_count": 3,
     "metadata": {},
     "output_type": "execute_result"
    },
    {
     "data": {
      "image/png": "[encoded data removed]",
      "text/plain": [
       "<Figure size 675x675 with 1 Axes>"
      ]
     },
     "metadata": {
      "needs_background": "light"
     },
     "output_type": "display_data"
    }
   ],
   "source": [
    "cmap = 'wrgybcm'\n",
    "lines_cm = cols.ListedColormap([[1, 0, 0],\n",
    "                               [0, 1, 0],\n",
    "                               [0, 0, 1],\n",
    "                               [0, 1, 1],\n",
    "                               [1, 1, 0],\n",
    "                               [1, 0, 1],\n",
    "                               [.8,.52,.25]])\n",
    "\n",
    "x,y = np.nonzero(board != UNOCCUPIED)\n",
    "fig = plt.figure(figsize=(SingleDim,SingleDim), dpi=75)\n",
    "ax = plt.subplot(111, aspect='equal', xlim=[0,SingleDim], ylim=[0,SingleDim], \n",
    "                 xticks=range(SingleDim+1), yticks=range(SingleDim+1))\n",
    "ax.grid(True)\n",
    "ax.scatter(y+0.5, x+0.5, s=2000, c=[board[x1,y1] for x1,y1 in zip(x,y)], \n",
    "           cmap=lines_cm)"
   ]
  },
  {
   "cell_type": "code",
   "execution_count": 4,
   "metadata": {},
   "outputs": [],
   "source": [
    "from itertools import product\n",
    "from dijkstar import Graph, find_path\n",
    "graph = Graph()\n",
    "for disp in [(1,0), (0,1), (-1,0), (0,-1)]:\n",
    "    if disp[0] != 0 :\n",
    "        row_plus = (1-disp[0])//2\n",
    "    else:\n",
    "        row_plus = 0\n",
    "    if disp[1] != 0 :\n",
    "        col_plus = (1-disp[1])//2\n",
    "    else:\n",
    "        col_plus = 0\n",
    "    \n",
    "    for r,c in product(range(row_plus, min(SingleDim,SingleDim-disp[0])), \n",
    "                       range(col_plus, min(SingleDim,SingleDim-disp[1]))):\n",
    "        loc = (r,c)\n",
    "        adj_loc = (loc[0]+disp[0],loc[1]+disp[1])\n",
    "        graph.add_edge(loc, adj_loc, (loc,adj_loc))\n",
    "\n",
    "path = find_path(graph, (0,0), (3,0), \n",
    "              cost_func=lambda u,v,e,pe: 0.001+int(board[v]!=UNOCCUPIED))"
   ]
  },
  {
   "cell_type": "code",
   "execution_count": 5,
   "metadata": {},
   "outputs": [
    {
     "data": {
      "text/plain": [
       "PathInfo(nodes=[(0, 0), (1, 0), (1, 1), (1, 2), (2, 2), (3, 2), (3, 1), (3, 0)], edges=[((0, 0), (1, 0)), ((1, 0), (1, 1)), ((1, 1), (1, 2)), ((1, 2), (2, 2)), ((2, 2), (3, 2)), ((3, 2), (3, 1)), ((3, 1), (3, 0))], costs=[0.001, 0.001, 0.001, 0.001, 0.001, 0.001, 0.001], total_cost=0.007)"
      ]
     },
     "execution_count": 5,
     "metadata": {},
     "output_type": "execute_result"
    }
   ],
   "source": [
    "path"
   ]
  },
  {
   "cell_type": "code",
   "execution_count": null,
   "metadata": {},
   "outputs": [],
   "source": [
    "orig_dirs = [(-1,0),(-1,-1),(0,-1),(1,-1)]\n",
    "isInRange = lambda loc: np.all(loc>=0 and loc<SingleDim)\n",
    "\n",
    "def getStraitConnection(board, location, color):\n",
    "    connection = []\n",
    "    for shift in orig_dirs:\n",
    "        line = []\n",
    "        \n",
    "        loc = location\n",
    "        while True:\n",
    "            loc += shift\n",
    "            if not isInRange(loc) or board[loc] != color: break\n",
    "            line.append(loc)\n",
    "        loc = location\n",
    "        while True:\n",
    "            loc -= shift\n",
    "            if not isInRange(loc) or board[loc] != color: break\n",
    "            line.append(loc)\n",
    "        \n",
    "        if len(line) >= MIN_LINE_ELIMINATION_SIZE-1:\n",
    "            connection.append(*line)\n",
    "    \n",
    "    if len(connection) > 0: connection.append(location)\n",
    "    return connection\n",
    "    \n",
    "def getLinesTransition(board, src, dst):\n",
    "    err = (board, ERROR_REWARD)\n",
    "    c = board[src]\n",
    "    if c == UNOCCUPIED or board[dst] == UNOCCUPIED: return err\n",
    "    path = getPath(board, src, dst)\n",
    "    if path.total_cost > 1.0: return err\n",
    "    \n",
    "    conn = getStraitConnection(board, dst, board[src])\n",
    "    b = board.copy()\n",
    "    b[conn[:,0],conn[:,1]] = UNOCCUPIED\n",
    "    return (b, len(conn))"
   ]
  }
 ],
 "metadata": {
  "kernelspec": {
   "display_name": "Python 3",
   "language": "python",
   "name": "python3"
  },
  "language_info": {
   "codemirror_mode": {
    "name": "ipython",
    "version": 3
   },
   "file_extension": ".py",
   "mimetype": "text/x-python",
   "name": "python",
   "nbconvert_exporter": "python",
   "pygments_lexer": "ipython3",
   "version": "3.6.7rc1"
  }
 },
 "nbformat": 4,
 "nbformat_minor": 2
}
