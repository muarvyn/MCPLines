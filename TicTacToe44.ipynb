{
 "cells": [
  {
   "cell_type": "code",
   "execution_count": null,
   "metadata": {},
   "outputs": [],
   "source": [
    "import numpy as np\n",
    "import tensorflow as tf\n",
    "import tensorflow.keras as keras\n",
    "import matplotlib.pyplot as plt\n",
    "import matplotlib.colors as cols\n",
    "import matplotlib.cm as cm"
   ]
  },
  {
   "cell_type": "markdown",
   "metadata": {},
   "source": [
    "#### the same as above but with eager execution enabled"
   ]
  },
  {
   "cell_type": "code",
   "execution_count": 1,
   "metadata": {},
   "outputs": [],
   "source": [
    "import numpy as np\n",
    "import tensorflow as tf\n",
    "tf.enable_eager_execution()\n",
    "import tensorflow.keras as keras\n",
    "import matplotlib.pyplot as plt\n",
    "import matplotlib.colors as cols\n",
    "import matplotlib.cm as cm"
   ]
  },
  {
   "cell_type": "code",
   "execution_count": 2,
   "metadata": {},
   "outputs": [],
   "source": [
    "CODE_MSB_VALUE = 1<<3\n",
    "def codeBoard(board):\n",
    "    return np.array(list(map(\n",
    "        lambda L:list(map(lambda l: [int(x) for x in bin((1<<l)+CODE_MSB_VALUE)[3:]], L)),\n",
    "        board\n",
    "    )))"
   ]
  },
  {
   "cell_type": "code",
   "execution_count": 3,
   "metadata": {},
   "outputs": [],
   "source": [
    "def getRot3(board):\n",
    "    rotations = [board]\n",
    "    for i in range(3):\n",
    "        rotations.append(np.rot90(rotations[-1]))\n",
    "    return rotations\n",
    "\n",
    "def augment(board):\n",
    "    flip = np.transpose(board)\n",
    "    return [codeBoard(v) for v in getRot3(board)+getRot3(flip)]"
   ]
  },
  {
   "cell_type": "code",
   "execution_count": 4,
   "metadata": {},
   "outputs": [],
   "source": [
    "board = [[0,0,1,2],\n",
    "         [1,1,2,0],\n",
    "         [0,0,2,1],\n",
    "         [1,2,0,0]\n",
    "        ]\n",
    "\n",
    "code = np.array(augment(board), dtype=np.float32)\n",
    "segment_hight = code.shape[1]\n",
    "segment_width = code.shape[2]\n",
    "code_depth = code.shape[3]"
   ]
  },
  {
   "cell_type": "code",
   "execution_count": 11,
   "metadata": {},
   "outputs": [
    {
     "data": {
      "text/plain": [
       "[(0, 0), (0, 1), (1, 3), (2, 0), (2, 1), (3, 2), (3, 3)]"
      ]
     },
     "execution_count": 11,
     "metadata": {},
     "output_type": "execute_result"
    }
   ],
   "source": [
    "l = getActionsIterator(board)\n",
    "list(l)"
   ]
  },
  {
   "cell_type": "markdown",
   "metadata": {},
   "source": [
    "#### actions iterator"
   ]
  },
  {
   "cell_type": "code",
   "execution_count": 5,
   "metadata": {},
   "outputs": [],
   "source": [
    "def getVacationsIterator(board):\n",
    "    return zip(*np.nonzero(np.array(board) == 0))\n",
    "\n",
    "orig_dirs = [(-1,0),(-1,-1),(0,-1),(1,-1)]\n",
    "SingleDim = 4\n",
    "MIN_LINE_SIZE = 3\n",
    "isInRange = lambda loc: np.all(np.array(loc)>=0) and np.all(np.array(loc)<SingleDim)\n",
    "\n",
    "def isStraitConnection(board, location, player):\n",
    "    connection = []\n",
    "    for shift in orig_dirs:\n",
    "        line = []\n",
    "        \n",
    "        loc = location\n",
    "        while True:\n",
    "            loc = (loc[0]+shift[0], loc[1]+shift[1])\n",
    "            if not isInRange(loc) or board[loc] != player: break\n",
    "            line.append(loc)\n",
    "        #print(line)\n",
    "            \n",
    "        loc = location\n",
    "        while True:\n",
    "            loc = (loc[0]-shift[0], loc[1]-shift[1])\n",
    "            if not isInRange(loc) or board[loc] != player: break\n",
    "            line.append(loc)\n",
    "        #print(line)\n",
    "        \n",
    "        if len(line) >= MIN_LINE_SIZE-1:\n",
    "            return True\n",
    "    \n",
    "    return False\n",
    "\n",
    "def getOneMoveTransition(board, move):\n",
    "    player, location = move\n",
    "    is_terminal = isStraitConnection(board, location, player)\n",
    "    next_board = board.copy()\n",
    "    next_board[location] = player\n",
    "    return (is_terminal, next_board)\n",
    "    "
   ]
  },
  {
   "cell_type": "markdown",
   "metadata": {},
   "source": [
    "#### test the environment"
   ]
  },
  {
   "cell_type": "code",
   "execution_count": 12,
   "metadata": {},
   "outputs": [
    {
     "data": {
      "text/plain": [
       "[(False, (0, 0)),\n",
       " (False, (0, 1)),\n",
       " (True, (1, 3)),\n",
       " (False, (2, 0)),\n",
       " (True, (2, 1)),\n",
       " (True, (3, 2)),\n",
       " (False, (3, 3))]"
      ]
     },
     "execution_count": 12,
     "metadata": {},
     "output_type": "execute_result"
    }
   ],
   "source": [
    "[(getOneMoveTransition(np.array(board),(2,loc))[0], loc) for loc in getVacationsIterator(board)]"
   ]
  },
  {
   "cell_type": "markdown",
   "metadata": {},
   "source": [
    "#### test Conv2D"
   ]
  },
  {
   "cell_type": "code",
   "execution_count": null,
   "metadata": {},
   "outputs": [],
   "source": [
    "k2D = np.array([[[2, 1, 0],[6, 0, 1],[2, 1, 0],[0,-1, 1]],\n",
    "               [[2, 1, 3],[9,-7, 1],[2, 1,-9],[5, 0, 0]],\n",
    "               [[0, 1, 3],[0, 0, 1],[2, 1,-3],[5,-1, 1]],\n",
    "               [[2, 1,-3],[0,-2, 1],[2, 1, 3],[4, 0,11]]\n",
    "              ], dtype=np.float32)\n",
    "kernel2D = tf.reshape(k2D, k2D.shape+(1,), name='kernel2D')\n",
    "\n",
    "#reshape for 2D convolution\n",
    "code2D = code.reshape((1,code.shape[0]*code.shape[1],)+code.shape[2:])\n",
    "print(tf.squeeze(tf.nn.conv2d(code2D, filters=kernel, strides=4, padding='VALID')).numpy())"
   ]
  },
  {
   "cell_type": "markdown",
   "metadata": {},
   "source": [
    "#### test Conv1D"
   ]
  },
  {
   "cell_type": "code",
   "execution_count": null,
   "metadata": {},
   "outputs": [],
   "source": [
    "k1D = np.array([[2, 1, 3],[9, 0, 1],\n",
    "                [0,-1, 4],[5, 0,-3]], dtype=np.float32)\n",
    "kernel1D = tf.reshape(k1D, k1D.shape+(1,), name='kernel1D')\n",
    "#reshape for 1D convolution\n",
    "code1D = code.reshape((1,code.shape[0]*code.shape[1]*code.shape[2],code.shape[3]))\n",
    "print(tf.squeeze(tf.nn.conv1d(code1D, filters=kernel1D, stride=4, padding='VALID')).numpy())"
   ]
  },
  {
   "cell_type": "markdown",
   "metadata": {},
   "source": [
    "#### build the model"
   ]
  },
  {
   "cell_type": "code",
   "execution_count": null,
   "metadata": {},
   "outputs": [],
   "source": [
    "class vModel(tf.keras.Model):\n",
    "    def __init__(self):\n",
    "        super(vModel, self).__init__()\n",
    "        self.dense1 = tf.keras.layers.Dense(units=44, name='dense1')\n",
    "        self.dense2 = tf.keras.layers.Dense(units=1, name='dense2')\n",
    "    \n",
    "    def call(self, input):\n",
    "        x = self.dense1(input)\n",
    "        x = self.dense2(x)\n",
    "        return tf.math.reduce_max(x, axis=0)\n",
    "\n",
    "model = vModel()"
   ]
  },
  {
   "cell_type": "markdown",
   "metadata": {},
   "source": [
    "#### get the gradient"
   ]
  },
  {
   "cell_type": "code",
   "execution_count": null,
   "metadata": {},
   "outputs": [],
   "source": [
    "def grad(position, estimate):\n",
    "    with tf.GradientTape() as t:\n",
    "        y = model(position)\n",
    "        loss = tf.square(y, estimate)\n",
    "        grad = t.gradient(loss, model.trainable_variables)"
   ]
  }
 ],
 "metadata": {
  "kernelspec": {
   "display_name": "Python 3",
   "language": "python",
   "name": "python3"
  },
  "language_info": {
   "codemirror_mode": {
    "name": "ipython",
    "version": 3
   },
   "file_extension": ".py",
   "mimetype": "text/x-python",
   "name": "python",
   "nbconvert_exporter": "python",
   "pygments_lexer": "ipython3",
   "version": "3.7.3"
  }
 },
 "nbformat": 4,
 "nbformat_minor": 2
}
