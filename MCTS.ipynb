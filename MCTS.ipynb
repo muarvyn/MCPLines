{
 "cells": [
  {
   "cell_type": "code",
   "execution_count": null,
   "metadata": {},
   "outputs": [],
   "source": [
    "import numpy as np\n",
    "import tensorflow as tf\n",
    "#tf.enable_eager_execution()\n",
    "import tensorflow.keras as keras\n",
    "from TicTacToeSetup import isStraitConnection, getVacationsIterator\n",
    "from TernaryPNS import iterateBidirSearch, UNKNOWN\n",
    "from TicTacToePNS import RenderNode, getTicTacToeRootNode, flip, TicTacToeState, \\\n",
    "    BidirPNSNode, TranspositionNode, PlaySetKey\n",
    "from treeutil import XRenderTree\n",
    "from itertools import filterfalse"
   ]
  },
  {
   "cell_type": "code",
   "execution_count": null,
   "metadata": {},
   "outputs": [],
   "source": [
    "THRESHOLD = 11\n",
    "node = root\n",
    "while node.visit_num >= THRESHOLD:\n",
    "    node = select(node)\n",
    "    path.append(node)\n",
    "    \n",
    "R = playout(node)\n",
    "for node in reversed(path):\n",
    "    update(node,R)\n",
    "\n",
    "def simulate(node):\n",
    "    getActionsIter(node)\n",
    "    np.argmax(np.random.multinomial(1, dist[0], size=10), axis=1)\n",
    "    "
   ]
  },
  {
   "cell_type": "code",
   "execution_count": null,
   "metadata": {},
   "outputs": [],
   "source": [
    "def makeMove(board, loc, player):\n",
    "    b = board.copy()\n",
    "    b[loc] = player\n",
    "    return b\n",
    "\n",
    "def simulate(board, player, sess):\n",
    "    depth = np.sum(board != 0)\n",
    "    p = player\n",
    "    while True:\n",
    "        mod = [-1.0, 1.0][player == p]\n",
    "        if depth > 9:\n",
    "            return mod * evalPNS(board, p)\n",
    "\n",
    "        actions = list(getVacationsIterator(board))\n",
    "        positions, is_win = zip(*[\n",
    "            (makeMove(board, loc, p), isStraitConnection(board, loc, p))\n",
    "            for loc in actions])\n",
    "        if any(is_win):\n",
    "            return mod\n",
    "        \n",
    "        eval_positions = positions\n",
    "        if player != p:\n",
    "            #positions = [np.vectorize(flip)(board) for board in positions]\n",
    "            eval_positions = np.vectorize(flip)(positions)\n",
    "        #dist_op = keras.activations.softmax(evaluate(eval_positions))\n",
    "        dist = sess.run(keras.activations.softmax(evaluate(eval_positions)))[0]\n",
    "        i = np.argmax(np.random.multinomial(1, dist))\n",
    "        board = positions[i]\n",
    "        depth += 1\n",
    "        p = flip(p)"
   ]
  },
  {
   "cell_type": "code",
   "execution_count": null,
   "metadata": {},
   "outputs": [],
   "source": [
    "def evaluate(positions):\n",
    "    codes = np.array(list(map(augment, positions)), dtype=np.float32)\n",
    "    shape = codes.shape\n",
    "    codes = codes.reshape(1, -1, shape[-4], shape[-3]*shape[-2]*shape[-1])\n",
    "    return model(codes)\n",
    "\n",
    "# feature coding and data augmentation:\n",
    "CODE_MSB_VALUE = 1<<3\n",
    "def codeBoard(board):\n",
    "    return np.array(list(map(\n",
    "        lambda L:list(map(lambda l: [int(x) for x in bin((1<<l)+CODE_MSB_VALUE)[3:]], L)),\n",
    "        board\n",
    "    )))\n",
    "\n",
    "def getRot3(board):\n",
    "    rotations = [board]\n",
    "    for i in range(3):\n",
    "        rotations.append(np.rot90(rotations[-1]))\n",
    "    return rotations\n",
    "\n",
    "def augment(board):\n",
    "    flip = np.transpose(board)\n",
    "    return [codeBoard(v) for v in getRot3(board)+getRot3(flip)]"
   ]
  },
  {
   "cell_type": "code",
   "execution_count": null,
   "metadata": {},
   "outputs": [],
   "source": [
    "class vModel(tf.keras.Model):\n",
    "    def __init__(self):\n",
    "        super(vModel, self).__init__()\n",
    "        self.dense1 = tf.keras.layers.Dense(units=44, name='dense1')\n",
    "        self.dense2 = tf.keras.layers.Dense(units=1, name='dense2')\n",
    "\n",
    "    def call(self, input):\n",
    "        x = self.dense1(input)\n",
    "        x = tf.squeeze(self.dense2(x), axis=-1)\n",
    "        return tf.math.reduce_max(x, axis=2)\n",
    "\n",
    "model = vModel()"
   ]
  },
  {
   "cell_type": "code",
   "execution_count": null,
   "metadata": {},
   "outputs": [],
   "source": [
    "test_board = np.array(\n",
    "        [[0,1,1,0],\n",
    "         [0,2,2,0],\n",
    "         [0,2,2,0],\n",
    "         [0,1,1,0]\n",
    "        ], dtype = int)\n",
    "flip_board = np.vectorize(flip)(test_board)\n",
    "test_board_2 = np.array(\n",
    "        [[0,0,0,0],\n",
    "         [0,0,0,0],\n",
    "         [0,0,0,0],\n",
    "         [0,0,0,0]\n",
    "        ], dtype = int)"
   ]
  },
  {
   "cell_type": "code",
   "execution_count": null,
   "metadata": {},
   "outputs": [],
   "source": [
    "#np.random.seed(111)\n",
    "player = 1\n",
    "board = test_board_2\n",
    "depth = np.sum(board != 0)\n",
    "p = player\n",
    "with tf.Session() as sess:\n",
    "    tf.global_variables_initializer().run()\n",
    "    while True:\n",
    "        mod = [-1.0, 1.0][player == p]\n",
    "        if depth > 9:\n",
    "            R = evalPNS(board, p)\n",
    "            break\n",
    "\n",
    "        actions = list(getVacationsIterator(board))\n",
    "        positions, is_win = zip(*[\n",
    "            (makeMove(board, loc, p), isStraitConnection(board, loc, p))\n",
    "            for loc in actions])\n",
    "        if any(is_win):\n",
    "            R = 1.0\n",
    "            break\n",
    "\n",
    "        eval_positions = positions\n",
    "        if player != p:\n",
    "            #positions = [np.vectorize(flip)(board) for board in positions]\n",
    "            eval_positions = np.vectorize(flip)(positions)\n",
    "        #dist_op = keras.activations.softmax(evaluate(eval_positions))\n",
    "        dist = sess.run(keras.activations.softmax(evaluate(eval_positions)))[0]\n",
    "        i = np.argmax(np.random.multinomial(1, dist))\n",
    "        board = positions[i]\n",
    "        print(board)\n",
    "        depth += 1\n",
    "        p = flip(p)\n",
    "    R *= mod\n",
    "R"
   ]
  },
  {
   "cell_type": "code",
   "execution_count": null,
   "metadata": {},
   "outputs": [],
   "source": [
    "player = 2\n",
    "actions = list(getVacationsIterator(test_board))\n",
    "positions, is_win = zip(*[\n",
    "    (makeMove(test_board, loc, player), isStraitConnection(test_board, loc, player))\n",
    "    for loc in actions])\n",
    "e = evaluate(positions)\n",
    "p = keras.activations.softmax(e)\n",
    "with tf.Session() as sess:\n",
    "    tf.global_variables_initializer().run()\n",
    "    ev = sess.run(e)"
   ]
  },
  {
   "cell_type": "code",
   "execution_count": null,
   "metadata": {},
   "outputs": [],
   "source": [
    "i = np.argmax(np.random.multinomial(1, dist))\n",
    "i"
   ]
  },
  {
   "cell_type": "code",
   "execution_count": null,
   "metadata": {},
   "outputs": [],
   "source": [
    "with tf.Session() as sess:\n",
    "    tf.global_variables_initializer().run()\n",
    "    R = simulate(test_board_2, 1, sess)\n",
    "R"
   ]
  },
  {
   "cell_type": "code",
   "execution_count": null,
   "metadata": {},
   "outputs": [],
   "source": [
    "class rootState(TicTacToeState):\n",
    "    def __init__(self, board, player):\n",
    "        self.depth = np.sum(test_board != 0)\n",
    "        self.board = board\n",
    "        self.loc = (-1,-1)\n",
    "        self.player = flip(player)\n",
    "        TicTacToeState.initial_player = player\n",
    "        self.key = PlaySetKey([])\n",
    "\n",
    "    def evaluate(self):\n",
    "        return UNKNOWN\n",
    "\n",
    "def createRootNode(board, player):\n",
    "    BidirPNSNode.count = 0\n",
    "    root = TranspositionNode(rootState(board, player))\n",
    "    TranspositionNode.table = {root.state.getKey():root}\n",
    "    return root\n",
    "\n",
    "def evalPNS(board, player):\n",
    "    root = createRootNode(board, player)\n",
    "    iterateBidirSearch(root)\n",
    "    if root.proof_num == 0:\n",
    "        return 1.0\n",
    "    elif root.disproof_num == 0:\n",
    "        return -1.0\n",
    "    return 0.0"
   ]
  },
  {
   "cell_type": "code",
   "execution_count": null,
   "metadata": {},
   "outputs": [],
   "source": [
    "evalPNS(flip_board, 2)"
   ]
  },
  {
   "cell_type": "code",
   "execution_count": null,
   "metadata": {},
   "outputs": [],
   "source": [
    "root = createRootNode(flip_board, 1)\n",
    "iterateBidirSearch(root)"
   ]
  },
  {
   "cell_type": "code",
   "execution_count": null,
   "metadata": {},
   "outputs": [],
   "source": [
    "hash(root.state.getKey())"
   ]
  },
  {
   "cell_type": "code",
   "execution_count": null,
   "metadata": {},
   "outputs": [],
   "source": [
    "print(XRenderTree(testRenderNode(root), \n",
    "                  childiter=lambda chld: filterfalse(lambda i: not i.orig.isExpanded() or i.orig.state.depth > 8, chld),\n",
    "                  nodeiter=testRenderNode.citer))"
   ]
  },
  {
   "cell_type": "code",
   "execution_count": null,
   "metadata": {},
   "outputs": [],
   "source": [
    "print(XRenderTree(testRenderNode(root), nodeiter=testRenderNode.citer))"
   ]
  },
  {
   "cell_type": "code",
   "execution_count": null,
   "metadata": {},
   "outputs": [],
   "source": [
    "def evaluate(board, player):\n",
    "    for \n",
    "    depth = np.sum(board != 0)\n",
    "    if depth > 8:\n",
    "        return evalPNS(board, player)\n",
    "    "
   ]
  },
  {
   "cell_type": "code",
   "execution_count": null,
   "metadata": {},
   "outputs": [],
   "source": [
    "class testRenderNode():\n",
    "    def __init__(self, orig, parent=None):\n",
    "        self.orig = orig\n",
    "        if parent:\n",
    "            parent_key_set = set(parent.orig.state.key.key_set)\n",
    "        else:\n",
    "            parent_key_set = set()\n",
    "        self.loc = next(iter(set(orig.state.key.key_set) - parent_key_set),\"root\")\n",
    "\n",
    "    def citer(self):\n",
    "        return map(lambda orig: RenderNode(orig, self), self.orig.children)\n",
    "\n",
    "    def __repr__(self):\n",
    "        return str(self.loc)+\"--\"+str(self.orig)"
   ]
  },
  {
   "cell_type": "code",
   "execution_count": null,
   "metadata": {},
   "outputs": [],
   "source": []
  }
 ],
 "metadata": {
  "kernelspec": {
   "display_name": "Python 3",
   "language": "python",
   "name": "python3"
  },
  "language_info": {
   "codemirror_mode": {
    "name": "ipython",
    "version": 3
   },
   "file_extension": ".py",
   "mimetype": "text/x-python",
   "name": "python",
   "nbconvert_exporter": "python",
   "pygments_lexer": "ipython3",
   "version": "3.7.3"
  }
 },
 "nbformat": 4,
 "nbformat_minor": 2
}
