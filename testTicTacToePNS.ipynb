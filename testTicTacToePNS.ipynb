{
 "cells": [
  {
   "cell_type": "code",
   "execution_count": null,
   "metadata": {},
   "outputs": [],
   "source": [
    "import numpy as np\n",
    "from itertools import filterfalse\n",
    "from TernaryPNS import iterateBidirSearch\n",
    "from TicTacToePNS import RenderNode, getTicTacToeRootNode\n",
    "from treeutil import XRenderTree"
   ]
  },
  {
   "cell_type": "code",
   "execution_count": null,
   "metadata": {},
   "outputs": [],
   "source": [
    "test_board = np.array(\n",
    "        [[0,0,2,0],\n",
    "         [0,1,1,0],\n",
    "         [0,1,2,0],\n",
    "         [0,0,0,0]\n",
    "        ], dtype = int)\n",
    "root = getTicTacToeRootNode(test_board, (3,3), 2, 6)"
   ]
  },
  {
   "cell_type": "code",
   "execution_count": null,
   "metadata": {},
   "outputs": [],
   "source": [
    "iterateBidirSearch(root, max_nodes=200000)"
   ]
  },
  {
   "cell_type": "code",
   "execution_count": null,
   "metadata": {},
   "outputs": [],
   "source": [
    "print(XRenderTree(RenderNode(root), \n",
    "                  childiter=lambda chld: filterfalse(lambda i: not i.orig.isExpanded() or i.orig.state.depth > 8, chld),\n",
    "                  nodeiter=RenderNode.citer))"
   ]
  },
  {
   "cell_type": "code",
   "execution_count": null,
   "metadata": {},
   "outputs": [],
   "source": [
    "test_board = np.array(\n",
    "        [[0,1,1,0],\n",
    "         [0,2,0,0],\n",
    "         [0,2,2,0],\n",
    "         [0,1,1,0]\n",
    "        ], dtype = int)\n",
    "root = getTicTacToeRootNode(test_board, (1,2), 2, 8)"
   ]
  },
  {
   "cell_type": "code",
   "execution_count": null,
   "metadata": {},
   "outputs": [],
   "source": []
  }
 ],
 "metadata": {
  "kernelspec": {
   "display_name": "Python 3",
   "language": "python",
   "name": "python3"
  },
  "language_info": {
   "codemirror_mode": {
    "name": "ipython",
    "version": 3
   },
   "file_extension": ".py",
   "mimetype": "text/x-python",
   "name": "python",
   "nbconvert_exporter": "python",
   "pygments_lexer": "ipython3",
   "version": "3.7.3"
  }
 },
 "nbformat": 4,
 "nbformat_minor": 2
}
