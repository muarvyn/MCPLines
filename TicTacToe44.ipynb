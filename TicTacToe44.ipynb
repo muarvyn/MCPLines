{
 "cells": [
  {
   "cell_type": "code",
   "execution_count": 1,
   "metadata": {},
   "outputs": [],
   "source": [
    "import numpy as np\n",
    "import sys\n",
    "import tensorflow as tf\n",
    "import tensorflow.keras as keras\n",
    "import matplotlib.pyplot as plt\n",
    "import matplotlib.colors as cols\n",
    "import matplotlib.cm as cm"
   ]
  },
  {
   "cell_type": "markdown",
   "metadata": {},
   "source": [
    "#### the same as above but with eager execution enabled"
   ]
  },
  {
   "cell_type": "code",
   "execution_count": 1,
   "metadata": {},
   "outputs": [],
   "source": [
    "import numpy as np\n",
    "import sys\n",
    "import tensorflow as tf\n",
    "tf.enable_eager_execution()\n",
    "import tensorflow.keras as keras\n",
    "import matplotlib.pyplot as plt\n",
    "import matplotlib.colors as cols\n",
    "import matplotlib.cm as cm"
   ]
  },
  {
   "cell_type": "code",
   "execution_count": 2,
   "metadata": {},
   "outputs": [],
   "source": [
    "CODE_MSB_VALUE = 1<<3\n",
    "def codeBoard(board):\n",
    "    return np.array(list(map(\n",
    "        lambda L:list(map(lambda l: [int(x) for x in bin((1<<l)+CODE_MSB_VALUE)[3:]], L)),\n",
    "        board\n",
    "    )))"
   ]
  },
  {
   "cell_type": "code",
   "execution_count": 3,
   "metadata": {},
   "outputs": [],
   "source": [
    "def getRot3(board):\n",
    "    rotations = [board]\n",
    "    for i in range(3):\n",
    "        rotations.append(np.rot90(rotations[-1]))\n",
    "    return rotations\n",
    "\n",
    "def augment(board):\n",
    "    flip = np.transpose(board)\n",
    "    return [codeBoard(v) for v in getRot3(board)+getRot3(flip)]"
   ]
  },
  {
   "cell_type": "code",
   "execution_count": 4,
   "metadata": {},
   "outputs": [],
   "source": [
    "board = [[0,0,1,2],\n",
    "         [1,1,2,0],\n",
    "         [0,0,2,1],\n",
    "         [1,2,0,0]\n",
    "        ]\n",
    "\n",
    "code = np.array(augment(board), dtype=np.float32)\n",
    "segment_hight = code.shape[1]\n",
    "segment_width = code.shape[2]\n",
    "code_depth = code.shape[3]"
   ]
  },
  {
   "cell_type": "code",
   "execution_count": 11,
   "metadata": {},
   "outputs": [
    {
     "data": {
      "text/plain": [
       "[(0, 0), (0, 1), (1, 3), (2, 0), (2, 1), (3, 2), (3, 3)]"
      ]
     },
     "execution_count": 11,
     "metadata": {},
     "output_type": "execute_result"
    }
   ],
   "source": [
    "l = getActionsIterator(board)\n",
    "list(l)"
   ]
  },
  {
   "cell_type": "markdown",
   "metadata": {},
   "source": [
    "#### actions iterator"
   ]
  },
  {
   "cell_type": "code",
   "execution_count": 5,
   "metadata": {},
   "outputs": [],
   "source": [
    "def getVacationsIterator(board):\n",
    "    return zip(*np.nonzero(np.array(board) == 0))\n",
    "\n",
    "orig_dirs = [(-1,0),(-1,-1),(0,-1),(1,-1)]\n",
    "SingleDim = 4\n",
    "MIN_LINE_SIZE = 3\n",
    "isInRange = lambda loc: np.all(np.array(loc)>=0) and np.all(np.array(loc)<SingleDim)\n",
    "\n",
    "def isStraitConnection(board, location, player):\n",
    "    connection = []\n",
    "    for shift in orig_dirs:\n",
    "        line = []\n",
    "        \n",
    "        loc = location\n",
    "        while True:\n",
    "            loc = (loc[0]+shift[0], loc[1]+shift[1])\n",
    "            if not isInRange(loc) or board[loc] != player: break\n",
    "            line.append(loc)\n",
    "        #print(line)\n",
    "            \n",
    "        loc = location\n",
    "        while True:\n",
    "            loc = (loc[0]-shift[0], loc[1]-shift[1])\n",
    "            if not isInRange(loc) or board[loc] != player: break\n",
    "            line.append(loc)\n",
    "        #print(line)\n",
    "        \n",
    "        if len(line) >= MIN_LINE_SIZE-1:\n",
    "            return True\n",
    "    \n",
    "    return False\n",
    "\n",
    "def getOneMoveTransition(board, move):\n",
    "    player, location = move\n",
    "    is_terminal = isStraitConnection(board, location, player)\n",
    "    next_board = board.copy()\n",
    "    next_board[location] = player\n",
    "    return (is_terminal, next_board)\n",
    "    "
   ]
  },
  {
   "cell_type": "markdown",
   "metadata": {},
   "source": [
    "#### test the environment"
   ]
  },
  {
   "cell_type": "code",
   "execution_count": 12,
   "metadata": {},
   "outputs": [
    {
     "data": {
      "text/plain": [
       "[(False, (0, 0)),\n",
       " (False, (0, 1)),\n",
       " (True, (1, 3)),\n",
       " (False, (2, 0)),\n",
       " (True, (2, 1)),\n",
       " (True, (3, 2)),\n",
       " (False, (3, 3))]"
      ]
     },
     "execution_count": 12,
     "metadata": {},
     "output_type": "execute_result"
    }
   ],
   "source": [
    "[(getOneMoveTransition(np.array(board),(2,loc))[0], loc) for loc in getVacationsIterator(board)]"
   ]
  },
  {
   "cell_type": "markdown",
   "metadata": {},
   "source": [
    "#### test Conv2D"
   ]
  },
  {
   "cell_type": "code",
   "execution_count": null,
   "metadata": {},
   "outputs": [],
   "source": [
    "k2D = np.array([[[2, 1, 0],[6, 0, 1],[2, 1, 0],[0,-1, 1]],\n",
    "               [[2, 1, 3],[9,-7, 1],[2, 1,-9],[5, 0, 0]],\n",
    "               [[0, 1, 3],[0, 0, 1],[2, 1,-3],[5,-1, 1]],\n",
    "               [[2, 1,-3],[0,-2, 1],[2, 1, 3],[4, 0,11]]\n",
    "              ], dtype=np.float32)\n",
    "kernel2D = tf.reshape(k2D, k2D.shape+(1,), name='kernel2D')\n",
    "\n",
    "#reshape for 2D convolution\n",
    "code2D = code.reshape((1,code.shape[0]*code.shape[1],)+code.shape[2:])\n",
    "print(tf.squeeze(tf.nn.conv2d(code2D, filters=kernel, strides=4, padding='VALID')).numpy())"
   ]
  },
  {
   "cell_type": "markdown",
   "metadata": {},
   "source": [
    "#### test Conv1D"
   ]
  },
  {
   "cell_type": "code",
   "execution_count": null,
   "metadata": {},
   "outputs": [],
   "source": [
    "k1D = np.array([[2, 1, 3],[9, 0, 1],\n",
    "                [0,-1, 4],[5, 0,-3]], dtype=np.float32)\n",
    "kernel1D = tf.reshape(k1D, k1D.shape+(1,), name='kernel1D')\n",
    "#reshape for 1D convolution\n",
    "code1D = code.reshape((1,code.shape[0]*code.shape[1]*code.shape[2],code.shape[3]))\n",
    "print(tf.squeeze(tf.nn.conv1d(code1D, filters=kernel1D, stride=4, padding='VALID')).numpy())"
   ]
  },
  {
   "cell_type": "markdown",
   "metadata": {},
   "source": [
    "#### build the model"
   ]
  },
  {
   "cell_type": "code",
   "execution_count": null,
   "metadata": {},
   "outputs": [],
   "source": [
    "class vModel(tf.keras.Model):\n",
    "    def __init__(self):\n",
    "        super(vModel, self).__init__()\n",
    "        self.dense1 = tf.keras.layers.Dense(units=44, name='dense1')\n",
    "        self.dense2 = tf.keras.layers.Dense(units=1, name='dense2')\n",
    "    \n",
    "    def call(self, input):\n",
    "        x = self.dense1(input)\n",
    "        x = self.dense2(x)\n",
    "        return tf.math.reduce_max(x, axis=0)\n",
    "\n",
    "model = vModel()"
   ]
  },
  {
   "cell_type": "markdown",
   "metadata": {},
   "source": [
    "#### get the gradient"
   ]
  },
  {
   "cell_type": "code",
   "execution_count": null,
   "metadata": {},
   "outputs": [],
   "source": [
    "def grad(position, estimate):\n",
    "    with tf.GradientTape() as t:\n",
    "        y = model(position)\n",
    "        loss = tf.square(y, estimate)\n",
    "        grad = t.gradient(loss, model.trainable_variables)"
   ]
  },
  {
   "cell_type": "markdown",
   "metadata": {},
   "source": [
    "### Proof number search\n",
    "#### the class ProofNumberNode"
   ]
  },
  {
   "cell_type": "code",
   "execution_count": 182,
   "metadata": {},
   "outputs": [],
   "source": [
    "class ProofNumberNode:\n",
    "    def __init__(self, is_and, pn=1, dn=1):\n",
    "        self.is_and = is_and\n",
    "        self.expanded = False\n",
    "        self.proof_num = pn\n",
    "        self.disproof_num = dn\n",
    "        self.children = []\n",
    "\n",
    "    def getNumber(self):\n",
    "        if self.is_and:\n",
    "            return self.proof_num\n",
    "        else:\n",
    "            return self.disproof_num\n",
    "        \n",
    "    def isAnd(self):\n",
    "        return self.is_and\n",
    "    \n",
    "    def isExpanded(self):\n",
    "        return self.expanded\n",
    "    \n",
    "    def update(self):\n",
    "        if len(self.children) == 0: return\n",
    "        if not self.is_and:\n",
    "            self.disproof_num = 0\n",
    "            self.proof_num = INF\n",
    "            for child in self.children:\n",
    "                self.disproof_num += child.disproof_num\n",
    "                self.proof_num = min(child.proof_num, self.proof_num)\n",
    "        else:\n",
    "            self.proof_num = 0\n",
    "            self.disproof_num = INF\n",
    "            for child in self.children:\n",
    "                self.proof_num += child.proof_num\n",
    "                self.disproof_num = min(child.disproof_num, self.disproof_num)\n",
    "\n",
    "    def expand(self):\n",
    "        if self.expanded: return\n",
    "        self.expanded = True\n",
    "        it = self.getExpandIterator()\n",
    "        for child in it:\n",
    "            shortcut = child.proof_num == 0 and not self.is_and or \\\n",
    "               child.disproof_num == 0 and self.is_and\n",
    "            self.children.append(child)\n",
    "            if shortcut: break\n",
    "                \n",
    "    def __repr__(self):\n",
    "        return \"<Type: \"+[\"OR\",\"AND\"][self.is_and]+\"; pn:\"+str(self.proof_num)+ \\\n",
    "            \"; dn:\"+str(self.disproof_num)+\"; \"+[\"\",\"expd \"][self.expanded]+ \\\n",
    "            str(len(self.children))+\" ch>\""
   ]
  },
  {
   "cell_type": "markdown",
   "metadata": {},
   "source": [
    "#### Search implementation"
   ]
  },
  {
   "cell_type": "code",
   "execution_count": 183,
   "metadata": {},
   "outputs": [],
   "source": [
    "def descendToMPN(node):\n",
    "    if not node.isExpanded():\n",
    "        node.expand()\n",
    "        node.update()\n",
    "        return True\n",
    "    \n",
    "    select = []\n",
    "    if node.isAnd():\n",
    "        dn = INF\n",
    "        for child in node.children:\n",
    "            if child.disproof_num < dn:\n",
    "                dn = child.disproof_num\n",
    "                select = [child]\n",
    "            elif child.disproof_num == dn:\n",
    "                select.append(child)\n",
    "    else:\n",
    "        pn = INF\n",
    "        for child in node.children:\n",
    "            if child.proof_num < pn:\n",
    "                pn = child.proof_num\n",
    "                select = [child]\n",
    "            elif child.proof_num == pn:\n",
    "                select.append(child)\n",
    "    expanded = False\n",
    "    for child in select:\n",
    "        expanded = descendToMPN(child)\n",
    "        if expanded: break\n",
    "\n",
    "    node.update()\n",
    "    return expanded\n",
    "\n",
    "def iteratePNSearch(root, max_nodes=100):\n",
    "    n=0\n",
    "    while root.count < max_nodes:\n",
    "        if not descendToMPN(root):\n",
    "            print(\"No expansion. Search terminated.\")\n",
    "            break\n",
    "        if root.proof_num == 0:\n",
    "            print(\"prooved\")\n",
    "            break\n",
    "        elif root.disproof_num == 0:\n",
    "            print(\"disprooved\")\n",
    "            break\n",
    "        else:\n",
    "            n += 1\n",
    "            print(\"Iteration {:3}: nodes count is {:4}\".format(n,root.count))"
   ]
  },
  {
   "cell_type": "markdown",
   "metadata": {},
   "source": [
    "### Test PNS"
   ]
  },
  {
   "cell_type": "code",
   "execution_count": 184,
   "metadata": {},
   "outputs": [],
   "source": [
    "WIN_NODE = 1\n",
    "LOOSE_NODE = -1\n",
    "DRAW_NODE = 2\n",
    "UNKNOWN_NODE = 0\n",
    "INF = sys.maxsize"
   ]
  },
  {
   "cell_type": "code",
   "execution_count": 323,
   "metadata": {},
   "outputs": [],
   "source": [
    "class TestPNS(ProofNumberNode):\n",
    "    def __init__(self, is_and):\n",
    "        if np.random.rand() < 0.075:\n",
    "            ProofNumberNode.__init__(self, is_and, 0, INF)\n",
    "        elif np.random.rand() < 0.125:\n",
    "            ProofNumberNode.__init__(self, is_and, INF, 0)\n",
    "        else: \n",
    "            ProofNumberNode.__init__(self, is_and, 1, 1)\n",
    "        TestPNS.count += 1\n",
    "        \n",
    "    def getExpandIterator(self):\n",
    "        for i in range(np.random.randint(1,5)):\n",
    "            yield TestPNS(not self.is_and)\n",
    "\n",
    "class rootPNS(TestPNS):\n",
    "    def __init__(self, is_and):\n",
    "        TestPNS.__init__(self, is_and)\n",
    "        self.proof_num = 1\n",
    "        self.disproof_num = 1\n",
    "        \n",
    "    def getExpandIterator(self):\n",
    "        for i in range(np.random.randint(2,5)):\n",
    "            yield TestPNS(not self.is_and)"
   ]
  },
  {
   "cell_type": "markdown",
   "metadata": {},
   "source": [
    "#### Run test search with maximum 100 expanded nodes"
   ]
  },
  {
   "cell_type": "code",
   "execution_count": 341,
   "metadata": {},
   "outputs": [
    {
     "name": "stdout",
     "output_type": "stream",
     "text": [
      "Iteration   1: nodes count is    3\n",
      "Iteration   2: nodes count is    5\n",
      "Iteration   3: nodes count is    9\n",
      "Iteration   4: nodes count is   11\n",
      "Iteration   5: nodes count is   12\n",
      "Iteration   6: nodes count is   16\n",
      "Iteration   7: nodes count is   19\n",
      "Iteration   8: nodes count is   22\n",
      "Iteration   9: nodes count is   24\n",
      "Iteration  10: nodes count is   26\n",
      "Iteration  11: nodes count is   30\n",
      "Iteration  12: nodes count is   32\n",
      "Iteration  13: nodes count is   34\n",
      "Iteration  14: nodes count is   37\n",
      "Iteration  15: nodes count is   38\n",
      "Iteration  16: nodes count is   39\n",
      "Iteration  17: nodes count is   42\n",
      "Iteration  18: nodes count is   46\n",
      "Iteration  19: nodes count is   49\n",
      "Iteration  20: nodes count is   52\n",
      "Iteration  21: nodes count is   53\n",
      "Iteration  22: nodes count is   56\n",
      "Iteration  23: nodes count is   60\n",
      "Iteration  24: nodes count is   61\n",
      "Iteration  25: nodes count is   65\n",
      "Iteration  26: nodes count is   67\n",
      "Iteration  27: nodes count is   71\n",
      "Iteration  28: nodes count is   75\n",
      "Iteration  29: nodes count is   78\n",
      "Iteration  30: nodes count is   82\n",
      "Iteration  31: nodes count is   83\n",
      "Iteration  32: nodes count is   84\n",
      "Iteration  33: nodes count is   88\n",
      "Iteration  34: nodes count is   90\n",
      "Iteration  35: nodes count is   91\n",
      "Iteration  36: nodes count is   92\n",
      "Iteration  37: nodes count is   94\n",
      "Iteration  38: nodes count is   98\n",
      "Iteration  39: nodes count is  102\n",
      "102\n"
     ]
    }
   ],
   "source": [
    "TestPNS.count = 0\n",
    "root = rootPNS(False)\n",
    "iteratePNSearch(root)\n",
    "print(root.count)"
   ]
  },
  {
   "cell_type": "code",
   "execution_count": 288,
   "metadata": {},
   "outputs": [
    {
     "data": {
      "text/plain": [
       "(10,\n",
       " <Type: OR; pn:0; dn:9223372036854775808; expd 2 ch>,\n",
       " [<Type: AND; pn:3; dn:1; expd 3 ch>,\n",
       "  <Type: AND; pn:0; dn:9223372036854775807; expd 1 ch>])"
      ]
     },
     "execution_count": 288,
     "metadata": {},
     "output_type": "execute_result"
    }
   ],
   "source": [
    "root.count, root, root.children"
   ]
  },
  {
   "cell_type": "code",
   "execution_count": 83,
   "metadata": {},
   "outputs": [],
   "source": [
    "descendToMPN(root)"
   ]
  },
  {
   "cell_type": "code",
   "execution_count": 292,
   "metadata": {},
   "outputs": [
    {
     "data": {
      "text/plain": [
       "[<Type: OR; pn:1; dn:1; 0 ch>,\n",
       " <Type: OR; pn:1; dn:1; 0 ch>,\n",
       " <Type: OR; pn:1; dn:1; 0 ch>]"
      ]
     },
     "execution_count": 292,
     "metadata": {},
     "output_type": "execute_result"
    }
   ],
   "source": [
    "root.children[0].children"
   ]
  },
  {
   "cell_type": "markdown",
   "metadata": {},
   "source": [
    "#### Continue test search, if previosely stopped by exceeding maximum number of nodes"
   ]
  },
  {
   "cell_type": "code",
   "execution_count": 342,
   "metadata": {},
   "outputs": [
    {
     "name": "stdout",
     "output_type": "stream",
     "text": [
      "Iteration   1: nodes count is  106\n",
      "disprooved\n"
     ]
    }
   ],
   "source": [
    "iteratePNSearch(root, max_nodes=1000)"
   ]
  },
  {
   "cell_type": "markdown",
   "metadata": {},
   "source": [
    "#### PNS stuff"
   ]
  },
  {
   "cell_type": "code",
   "execution_count": 198,
   "metadata": {},
   "outputs": [],
   "source": [
    "def rootExpandIterator(inst):\n",
    "    for i in range(np.random.randint(2,5)):\n",
    "        yield TestPNS(not inst.is_and)"
   ]
  },
  {
   "cell_type": "code",
   "execution_count": null,
   "metadata": {},
   "outputs": [],
   "source": [
    "'''                    \n",
    "    def expand(self):\n",
    "        if self.expanded: return\n",
    "        self.expanded = True\n",
    "        it = self.getChildrenIterator()\n",
    "        shortcut = False\n",
    "        for child in it:\n",
    "            e = child.evaluate()\n",
    "            if e == WIN_NODE:\n",
    "                new_node = newNode(child_is_and, 0, INF)\n",
    "                shortcut = not node.isAnd():\n",
    "            elif e == LOOSE_NODE:\n",
    "                new_node = newNode(child_is_and, INF, 0)\n",
    "                shortcut = node.isAnd()\n",
    "            else new_node = newNode(child_is_and, 1, 1)\n",
    "            node.children.append(new_node)\n",
    "            if shortcut: break\n",
    "'''\n",
    "    \n",
    "def expandNode(node, getChildrenIterator, evaluateNode, newNode):\n",
    "    it = getChildrenIterator(node)\n",
    "        \n",
    "    shortcut = False\n",
    "    for child in it:\n",
    "        e = evaluateNode(child)\n",
    "        if e == WIN_NODE:\n",
    "            new_node = newNode(child_is_and, 0, INF)\n",
    "            shortcut = not node.isAnd():\n",
    "        elif e == LOOSE_NODE:\n",
    "            new_node = newNode(child_is_and, INF, 0)\n",
    "            shortcut = node.isAnd()\n",
    "        else new_node = newNode(child_is_and, 1, 1)\n",
    "        node.children.append(new_node)\n",
    "        if shortcut: break\n",
    "            \n",
    "def updateNode(node):\n",
    "    for child in node:\n",
    "        value += child.getValue()\n",
    "        if child.getNumber() < num:\n",
    "            num = child.getNumber()\n",
    "    node.setNumber(value)\n",
    "    node.setValue(num)\n",
    "        \n",
    "def selectMostProvingNode(node):\n",
    "    while (node.isExpanded()):\n",
    "        int value = INF\n",
    "        for child in node:\n",
    "            if (child.getNumber() < value):\n",
    "                best = child;\n",
    "                value = child.getNumber()\n",
    "        node = best;\n",
    "\n",
    "    return node;\n",
    "\n",
    "def updateProofNumbers(node):\n",
    "    value = 0\n",
    "    num = INF\n",
    "    for child in node:\n",
    "        value += child.getValue()\n",
    "        if child.getNumber() < num:\n",
    "            num = child.getNumber()\n",
    "    node.setNumber(value)\n",
    "    node.setValue(num)\n",
    "    \n",
    "def updateNumbers(node):\n",
    "    all_number = 0\n",
    "    min_number = INF\n",
    "    for child in node:\n",
    "        all_number += child.getMinNumber()\n",
    "        if child.getAllNumber() < min_number:\n",
    "            min_number = child.getAllNumber()\n",
    "    node.setAllNumber(all_number)\n",
    "    node.setMinNumber(min_number)\n",
    "\n",
    "def expandNode2(node, getChildrenIterator, evaluateNode, newNode):\n",
    "    it = getChildrenIterator(node)\n",
    "    child_is_and = not node.isAnd()\n",
    "    if child_is_and:\n",
    "        all_number = 0\n",
    "        min_number = INF\n",
    "    else:\n",
    "        all_number = INF\n",
    "        min_number = 0\n",
    "        \n",
    "    for child in it:\n",
    "        e = evaluateNode(child)\n",
    "        if e == WIN_NODE:\n",
    "            new_node = newNode(child_is_and, 0, INF)\n",
    "            if not node.isAnd():\n",
    "                # shortcut the search\n",
    "                break\n",
    "        elif e == LOOSE_NODE:\n",
    "            new_node = newNode(child_is_and, INF, 0)\n",
    "            if node.isAnd():\n",
    "                # shortcut the search\n",
    "                break\n",
    "        else new_node = newNode(child_is_and, 1, 1)\n",
    "        \n",
    "        setProofAndDisproofNumbers( c )\n",
    "        if n.type == AND:\n",
    "            if ( c.disproof == 0 ) break;\n",
    "    } else {  /* OR node */\n",
    "      if ( c.proof == 0 ) break;\n",
    "    }\n",
    "  }\n",
    "  n.expanded = true;\n",
    "}\n",
    "\n",
    "def doPNS(root):\n",
    "    mpn = selectMostProvingNode(root)\n",
    "    "
   ]
  },
  {
   "cell_type": "markdown",
   "metadata": {},
   "source": [
    "### TicTacToe PNS implementation"
   ]
  },
  {
   "cell_type": "code",
   "execution_count": null,
   "metadata": {},
   "outputs": [],
   "source": [
    "class TicTacToe(ProofNumberNode):\n",
    "    def __init__(self, position):\n",
    "        \n",
    "        self.\n",
    "        ProofNumberNode.__init__(self, )\n",
    "        \n",
    "def "
   ]
  }
 ],
 "metadata": {
  "kernelspec": {
   "display_name": "Python 3",
   "language": "python",
   "name": "python3"
  },
  "language_info": {
   "codemirror_mode": {
    "name": "ipython",
    "version": 3
   },
   "file_extension": ".py",
   "mimetype": "text/x-python",
   "name": "python",
   "nbconvert_exporter": "python",
   "pygments_lexer": "ipython3",
   "version": "3.7.3"
  }
 },
 "nbformat": 4,
 "nbformat_minor": 2
}
