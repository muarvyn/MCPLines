{
 "cells": [
  {
   "cell_type": "code",
   "execution_count": null,
   "metadata": {},
   "outputs": [],
   "source": [
    "import numpy as np\n",
    "import sys\n",
    "import tensorflow as tf\n",
    "import tensorflow.keras as keras\n",
    "import matplotlib.pyplot as plt\n",
    "import matplotlib.colors as cols\n",
    "import matplotlib.cm as cm\n",
    "from anytree import RenderTree\n",
    "from itertools import filterfalse\n",
    "from functools import reduce"
   ]
  },
  {
   "cell_type": "markdown",
   "metadata": {},
   "source": [
    "#### the same as above but with eager execution enabled"
   ]
  },
  {
   "cell_type": "code",
   "execution_count": null,
   "metadata": {},
   "outputs": [],
   "source": [
    "import numpy as np\n",
    "import sys\n",
    "import tensorflow as tf\n",
    "tf.enable_eager_execution()\n",
    "import tensorflow.keras as keras\n",
    "import matplotlib.pyplot as plt\n",
    "import matplotlib.colors as cols\n",
    "import matplotlib.cm as cm"
   ]
  },
  {
   "cell_type": "code",
   "execution_count": null,
   "metadata": {},
   "outputs": [],
   "source": [
    "CODE_MSB_VALUE = 1<<3\n",
    "def codeBoard(board):\n",
    "    return np.array(list(map(\n",
    "        lambda L:list(map(lambda l: [int(x) for x in bin((1<<l)+CODE_MSB_VALUE)[3:]], L)),\n",
    "        board\n",
    "    )))"
   ]
  },
  {
   "cell_type": "code",
   "execution_count": null,
   "metadata": {},
   "outputs": [],
   "source": [
    "def getRot3(board):\n",
    "    rotations = [board]\n",
    "    for i in range(3):\n",
    "        rotations.append(np.rot90(rotations[-1]))\n",
    "    return rotations\n",
    "\n",
    "def augment(board):\n",
    "    flip = np.transpose(board)\n",
    "    return [codeBoard(v) for v in getRot3(board)+getRot3(flip)]"
   ]
  },
  {
   "cell_type": "code",
   "execution_count": null,
   "metadata": {},
   "outputs": [],
   "source": [
    "board = [[0,0,1,2],\n",
    "         [1,1,2,0],\n",
    "         [0,0,2,1],\n",
    "         [1,2,0,0]\n",
    "        ]\n",
    "\n",
    "code = np.array(augment(board), dtype=np.float32)\n",
    "segment_hight = code.shape[1]\n",
    "segment_width = code.shape[2]\n",
    "code_depth = code.shape[3]"
   ]
  },
  {
   "cell_type": "code",
   "execution_count": null,
   "metadata": {},
   "outputs": [],
   "source": [
    "l = getVacationsIterator(board)\n",
    "list(l)"
   ]
  },
  {
   "cell_type": "markdown",
   "metadata": {},
   "source": [
    "#### actions iterator"
   ]
  },
  {
   "cell_type": "code",
   "execution_count": null,
   "metadata": {},
   "outputs": [],
   "source": [
    "def getVacationsIterator(board):\n",
    "    return zip(*np.nonzero(np.array(board) == 0))\n",
    "\n",
    "orig_dirs = [(-1,0),(-1,-1),(0,-1),(1,-1)]\n",
    "SingleDim = 4\n",
    "MIN_LINE_SIZE = 4\n",
    "MIN_LINE_SIZE_M1 = MIN_LINE_SIZE - 1\n",
    "isInRange = lambda loc: np.all(np.array(loc)>=0) and np.all(np.array(loc)<SingleDim)\n",
    "\n",
    "flip = lambda p: [0,2,1][p]\n",
    "\n",
    "def isStraitConnection(board, location, player):\n",
    "    connection = []\n",
    "    for shift in orig_dirs:\n",
    "        line = []\n",
    "        \n",
    "        loc = location\n",
    "        while True:\n",
    "            loc = (loc[0]+shift[0], loc[1]+shift[1])\n",
    "            if not isInRange(loc) or board[loc] != player: break\n",
    "            line.append(loc)\n",
    "        #print(line)\n",
    "            \n",
    "        loc = location\n",
    "        while True:\n",
    "            loc = (loc[0]-shift[0], loc[1]-shift[1])\n",
    "            if not isInRange(loc) or board[loc] != player: break\n",
    "            line.append(loc)\n",
    "        #print(line)\n",
    "        \n",
    "        if len(line) >= MIN_LINE_SIZE_M1:\n",
    "            return True\n",
    "    \n",
    "    return False\n",
    "\n",
    "def getOneMoveTransition(board, move):\n",
    "    player, location = move\n",
    "    is_terminal = isStraitConnection(board, location, player)\n",
    "    next_board = board.copy()\n",
    "    next_board[location] = player\n",
    "    return (is_terminal, next_board)\n",
    "\n",
    "def applyMove(board, move):\n",
    "    location, player = move\n",
    "    next_board = board.copy()\n",
    "    next_board[location] = player\n",
    "    return (is_terminal, next_board)\n"
   ]
  },
  {
   "cell_type": "markdown",
   "metadata": {},
   "source": [
    "<font color=#404040>\n",
    "Early draw detection\n",
    "</font>"
   ]
  },
  {
   "cell_type": "code",
   "execution_count": null,
   "metadata": {},
   "outputs": [],
   "source": [
    "def getLocationsOf(board, mark):\n",
    "    return zip(*np.nonzero(np.array(board) == mark))\n",
    "\n",
    "board_shape = (SingleDim,SingleDim)\n",
    "dir_inc = np.array([[0,1],[1,1],[1,0],[1,-1]])\n",
    "# bit set of winning configurations a board cell is part of, built for each board cell\n",
    "bit_sets = np.zeros(shape=board_shape, dtype=int)\n",
    "bit = 0 # codes a distinct winning configuration\n",
    "for row,col in np.ndindex(board_shape):\n",
    "    for row_inc,col_inc in dir_inc:\n",
    "        end = (row+row_inc*MIN_LINE_SIZE_M1, col+col_inc*MIN_LINE_SIZE_M1)\n",
    "        if not end in np.ndindex(board_shape):\n",
    "            continue\n",
    "        for i in range(MIN_LINE_SIZE):\n",
    "            bit_sets[row+row_inc*i, col+col_inc*i] |= 1<<bit\n",
    "        bit += 1\n",
    "complete_bit_set = \\\n",
    "    reduce(lambda a,b: a|b, [bit_sets[x] for x in np.ndindex(board_shape)])\n",
    "bit, complete_bit_set"
   ]
  },
  {
   "cell_type": "code",
   "execution_count": null,
   "metadata": {},
   "outputs": [],
   "source": [
    "def isDraw(board):\n",
    "    return \\\n",
    "        reduce(lambda a,b: a|b, [bit_sets[x] for x in getLocationsOf(board,2)]) == complete_bit_set \\\n",
    "        and reduce(lambda a,b: a|b, [bit_sets[x] for x in getLocationsOf(board,1)]) == complete_bit_set"
   ]
  },
  {
   "cell_type": "code",
   "execution_count": null,
   "metadata": {},
   "outputs": [],
   "source": [
    "bit"
   ]
  },
  {
   "cell_type": "code",
   "execution_count": null,
   "metadata": {},
   "outputs": [],
   "source": [
    "board = [[0,2,1,0],\n",
    "         [1,1,2,0],\n",
    "         [2,1,0,1],\n",
    "         [0,0,1,2]\n",
    "        ]\n",
    "\n",
    "isDraw(board)"
   ]
  },
  {
   "cell_type": "markdown",
   "metadata": {},
   "source": [
    "#### test the environment"
   ]
  },
  {
   "cell_type": "code",
   "execution_count": null,
   "metadata": {},
   "outputs": [],
   "source": [
    "[(getOneMoveTransition(np.array(board),(2,loc))[0], loc) for loc in getVacationsIterator(board)]"
   ]
  },
  {
   "cell_type": "markdown",
   "metadata": {},
   "source": [
    "#### test Conv2D"
   ]
  },
  {
   "cell_type": "code",
   "execution_count": null,
   "metadata": {},
   "outputs": [],
   "source": [
    "k2D = np.array([[[2, 1, 0],[6, 0, 1],[2, 1, 0],[0,-1, 1]],\n",
    "               [[2, 1, 3],[9,-7, 1],[2, 1,-9],[5, 0, 0]],\n",
    "               [[0, 1, 3],[0, 0, 1],[2, 1,-3],[5,-1, 1]],\n",
    "               [[2, 1,-3],[0,-2, 1],[2, 1, 3],[4, 0,11]]\n",
    "              ], dtype=np.float32)\n",
    "kernel2D = tf.reshape(k2D, k2D.shape+(1,), name='kernel2D')\n",
    "\n",
    "#reshape for 2D convolution\n",
    "code2D = code.reshape((1,code.shape[0]*code.shape[1],)+code.shape[2:])\n",
    "print(tf.squeeze(tf.nn.conv2d(code2D, filters=kernel, strides=4, padding='VALID')).numpy())"
   ]
  },
  {
   "cell_type": "markdown",
   "metadata": {},
   "source": [
    "#### test Conv1D"
   ]
  },
  {
   "cell_type": "code",
   "execution_count": null,
   "metadata": {},
   "outputs": [],
   "source": [
    "k1D = np.array([[2, 1, 3],[9, 0, 1],\n",
    "                [0,-1, 4],[5, 0,-3]], dtype=np.float32)\n",
    "kernel1D = tf.reshape(k1D, k1D.shape+(1,), name='kernel1D')\n",
    "#reshape for 1D convolution\n",
    "code1D = code.reshape((1,code.shape[0]*code.shape[1]*code.shape[2],code.shape[3]))\n",
    "print(tf.squeeze(tf.nn.conv1d(code1D, filters=kernel1D, stride=4, padding='VALID')).numpy())"
   ]
  },
  {
   "cell_type": "markdown",
   "metadata": {},
   "source": [
    "#### build the model"
   ]
  },
  {
   "cell_type": "code",
   "execution_count": null,
   "metadata": {},
   "outputs": [],
   "source": [
    "class vModel(tf.keras.Model):\n",
    "    def __init__(self):\n",
    "        super(vModel, self).__init__()\n",
    "        self.dense1 = tf.keras.layers.Dense(units=44, name='dense1')\n",
    "        self.dense2 = tf.keras.layers.Dense(units=1, name='dense2')\n",
    "    \n",
    "    def call(self, input):\n",
    "        x = self.dense1(input)\n",
    "        x = self.dense2(x)\n",
    "        return tf.math.reduce_max(x, axis=0)\n",
    "\n",
    "model = vModel()"
   ]
  },
  {
   "cell_type": "markdown",
   "metadata": {},
   "source": [
    "#### get the gradient"
   ]
  },
  {
   "cell_type": "code",
   "execution_count": null,
   "metadata": {},
   "outputs": [],
   "source": [
    "def grad(position, estimate):\n",
    "    with tf.GradientTape() as t:\n",
    "        y = model(position)\n",
    "        loss = tf.square(y, estimate)\n",
    "        grad = t.gradient(loss, model.trainable_variables)"
   ]
  },
  {
   "cell_type": "markdown",
   "metadata": {},
   "source": [
    "### Proof number search\n",
    "#### the class ProofNumberNode"
   ]
  },
  {
   "cell_type": "code",
   "execution_count": null,
   "metadata": {},
   "outputs": [],
   "source": [
    "INF = sys.maxsize\n",
    "class ProofNumberNode:\n",
    "    def __init__(self, is_and, pn=1, dn=1, is_term=False):\n",
    "        self.is_and = is_and\n",
    "        self.expanded = is_term\n",
    "        self.proof_num = pn\n",
    "        self.disproof_num = dn\n",
    "        self.children = []\n",
    "\n",
    "    def getNumber(self):\n",
    "        if self.is_and:\n",
    "            return self.proof_num\n",
    "        else:\n",
    "            return self.disproof_num\n",
    "        \n",
    "    def isAnd(self):\n",
    "        return self.is_and\n",
    "    \n",
    "    def isExpanded(self):\n",
    "        return self.expanded\n",
    "    \n",
    "    def update(self):\n",
    "        if len(self.children) == 0: return\n",
    "        if not self.is_and:\n",
    "            self.disproof_num = 0\n",
    "            self.proof_num = INF\n",
    "            for child in self.children:\n",
    "                self.disproof_num += child.disproof_num\n",
    "                self.proof_num = min(child.proof_num, self.proof_num)\n",
    "        else:\n",
    "            self.proof_num = 0\n",
    "            self.disproof_num = INF\n",
    "            for child in self.children:\n",
    "                self.proof_num += child.proof_num\n",
    "                self.disproof_num = min(child.disproof_num, self.disproof_num)\n",
    "\n",
    "    def expand(self):\n",
    "        if self.expanded: return\n",
    "        self.expanded = True\n",
    "        it = self.getExpandIterator()\n",
    "        for child in it:\n",
    "            shortcut = child.proof_num == 0 and not self.is_and or \\\n",
    "               child.disproof_num == 0 and self.is_and\n",
    "            self.children.append(child)\n",
    "            if shortcut: break\n",
    "                \n",
    "    def __repr__(self):\n",
    "        return \"<Type: \"+[\"OR\",\"AND\"][self.is_and]+\"; pn:\"+str(self.proof_num)+ \\\n",
    "            \"; dn:\"+str(self.disproof_num)+\"; \"+[\"\",\"expd \"][self.expanded]+ \\\n",
    "            str(len(self.children))+\" ch>\""
   ]
  },
  {
   "cell_type": "markdown",
   "metadata": {},
   "source": [
    "#### Search implementation"
   ]
  },
  {
   "cell_type": "code",
   "execution_count": null,
   "metadata": {},
   "outputs": [],
   "source": [
    "def descendToMPN(node):\n",
    "    if not node.isExpanded():\n",
    "        node.expand()\n",
    "        node.update()\n",
    "        return True\n",
    "    \n",
    "    select = []\n",
    "    if node.isAnd():\n",
    "        dn = INF\n",
    "        for child in node.children:\n",
    "            if child.disproof_num < dn:\n",
    "                dn = child.disproof_num\n",
    "                select = [child]\n",
    "            # no need anymore:\n",
    "            #elif child.disproof_num == dn: \n",
    "            #    select.append(child)\n",
    "    else:\n",
    "        pn = INF\n",
    "        for child in node.children:\n",
    "            if child.proof_num < pn:\n",
    "                pn = child.proof_num\n",
    "                select = [child]\n",
    "            # no need anymore:\n",
    "            #elif child.proof_num == pn:\n",
    "            #    select.append(child)\n",
    "    expanded = False\n",
    "    for child in select:\n",
    "        expanded = descendToMPN(child)\n",
    "        if expanded: break\n",
    "\n",
    "    node.update()\n",
    "    return expanded\n",
    "\n",
    "def iteratePNSearch(root, max_iterations=None, max_nodes=None):\n",
    "    n=0\n",
    "    while (not max_nodes or root.count < max_nodes) and \\\n",
    "        (not max_iterations or n < max_iterations):\n",
    "        if not descendToMPN(root):\n",
    "            print(\"\\nNo expansion. Search terminated.\")\n",
    "            break\n",
    "        if root.proof_num == 0:\n",
    "            print(\"\\nprooved\")\n",
    "            break\n",
    "        elif root.disproof_num == 0:\n",
    "            print(\"\\ndisprooved\")\n",
    "            break\n",
    "        else:\n",
    "            n += 1\n",
    "            print(\"\\rIteration {:4}: nodes count is {:5}\".format(n,root.count), \n",
    "                  flush=True, end='')\n",
    "    print(\"\\nIteration {:4}: nodes count is {:5}\".format(n,root.count))"
   ]
  },
  {
   "cell_type": "markdown",
   "metadata": {},
   "source": [
    "### Test PNS"
   ]
  },
  {
   "cell_type": "code",
   "execution_count": null,
   "metadata": {},
   "outputs": [],
   "source": [
    "class TestPNS(ProofNumberNode):\n",
    "    def __init__(self, is_and, min_children=0):\n",
    "        self.ch_num = 0\n",
    "        if np.random.rand() < 0.15:\n",
    "            pn = 0 \n",
    "            dn = INF\n",
    "        elif np.random.rand() < 0.25:\n",
    "            pn = INF \n",
    "            dn = 0\n",
    "        else:\n",
    "            self.ch_num = np.random.randint(min_children,5)\n",
    "            if self.ch_num == 0:\n",
    "                pn = INF//2\n",
    "                dn = INF//2\n",
    "            else:\n",
    "                pn = 1\n",
    "                dn = 1\n",
    "        ProofNumberNode.__init__(self, is_and, pn, dn, self.ch_num==0)\n",
    "        TestPNS.count += 1\n",
    "\n",
    "    def getExpandIterator(self):\n",
    "        for i in range(self.ch_num):\n",
    "            yield TestPNS(not self.is_and)\n",
    "\n",
    "class rootPNS(TestPNS):\n",
    "    def __init__(self, is_and):\n",
    "        ProofNumberNode.__init__(self, is_and, 1, 1)\n",
    "        self.ch_num = np.random.randint(2,5)\n",
    "        TestPNS.count = 1\n"
   ]
  },
  {
   "cell_type": "markdown",
   "metadata": {},
   "source": [
    "#### Run test search with maximum 100 expanded nodes"
   ]
  },
  {
   "cell_type": "code",
   "execution_count": null,
   "metadata": {},
   "outputs": [],
   "source": [
    "root = rootPNS(False)\n",
    "iteratePNSearch(root)\n",
    "print(root.count)"
   ]
  },
  {
   "cell_type": "code",
   "execution_count": null,
   "metadata": {},
   "outputs": [],
   "source": [
    "root.children[1].children[7].is_and"
   ]
  },
  {
   "cell_type": "markdown",
   "metadata": {},
   "source": [
    "<font color=#307030>\n",
    "Render the tree, skipping unexpanded nodes:\n",
    "</font>"
   ]
  },
  {
   "cell_type": "code",
   "execution_count": null,
   "metadata": {},
   "outputs": [],
   "source": [
    "print(RenderTree(root, childiter=lambda chld: filterfalse(lambda i: not i.isExpanded(), chld)))\n",
    "#print(RenderTree(root))"
   ]
  },
  {
   "cell_type": "code",
   "execution_count": null,
   "metadata": {},
   "outputs": [],
   "source": [
    "print(descendToMPN(root.children[0]))\n",
    "#root.children[2].update()\n",
    "root.update()"
   ]
  },
  {
   "cell_type": "markdown",
   "metadata": {},
   "source": [
    "#### Continue test search, if previosely stopped by exceeding maximum number of nodes"
   ]
  },
  {
   "cell_type": "code",
   "execution_count": null,
   "metadata": {},
   "outputs": [],
   "source": [
    "iteratePNSearch(root, max_nodes=1000)"
   ]
  },
  {
   "cell_type": "markdown",
   "metadata": {},
   "source": [
    "### TicTacToe PNS implementation"
   ]
  },
  {
   "cell_type": "code",
   "execution_count": null,
   "metadata": {},
   "outputs": [],
   "source": [
    "class TicTacToeNode(ProofNumberNode):\n",
    "    def __init__(self, is_and, position, depth):\n",
    "        is_term = depth == SingleDim**2\n",
    "        self.depth = depth\n",
    "        board, loc, player = position\n",
    "        self.board = board.copy()\n",
    "        self.loc = loc\n",
    "        self.board[loc] = player\n",
    "        self.player = player\n",
    "        if isStraitConnection(board, loc, player):\n",
    "            if is_and:\n",
    "                pn = 0\n",
    "                dn = INF\n",
    "            else:\n",
    "                pn = INF\n",
    "                dn = 0\n",
    "            is_term = True\n",
    "        else:\n",
    "            is_term = isDraw(self.board)\n",
    "            if is_term:\n",
    "                pn = INF//2\n",
    "                dn = INF//2\n",
    "            else:\n",
    "                pn = 1\n",
    "                dn = 1\n",
    "\n",
    "        ProofNumberNode.__init__(self, is_and, pn, dn, is_term)\n",
    "        TicTacToeNode.count += 1\n",
    "\n",
    "    def getExpandIterator(self):\n",
    "        for loc in getVacationsIterator(self.board):\n",
    "            yield TicTacToeNode(not self.is_and, \n",
    "                                (self.board, loc, flip(self.player)), \n",
    "                                self.depth+1)\n",
    "    def __repr__(self):\n",
    "        INF2 = INF//2\n",
    "        pn = [\"\", \"pn=\"+str(self.proof_num)+\"; \"][self.proof_num < INF2]\n",
    "        dn = [\"\", \"dn=\"+str(self.disproof_num)+\"; \"][self.disproof_num < INF2]\n",
    "        stat = [\" \",\" WIN\",\" LOOSE\",\" DRAW\"][\n",
    "                (self.proof_num==0)+((self.disproof_num==0)<<1)+\n",
    "                (self.proof_num>=INF2 and self.disproof_num>=INF2)*3\n",
    "        ]\n",
    "        return \"<\"+str(self.player)+\":\"+stat+\"; \"+pn+dn+\">\""
   ]
  },
  {
   "cell_type": "code",
   "execution_count": null,
   "metadata": {},
   "outputs": [],
   "source": [
    "'''   \n",
    "    def __repr__(self):\n",
    "        return \"<\"+str(self.player)+\": \"+[\"\",\"expd \"][self.expanded]+ \\\n",
    "            str(len(self.children))+\" ch; \"+str(self.loc)+ \\\n",
    "            [\" \",\" WIN\",\" LOOSE\"][(self.proof_num==0)+((self.disproof_num==0)<<1)]+\">\"\n",
    "    def __repr__(self):\n",
    "        return \"<\"+str(self.player)+\" \"+str(self.board)+[\"\",\"expd \"][self.expanded]+ \\\n",
    "            str(len(self.children))+\" ch>\"\n",
    "'''"
   ]
  },
  {
   "cell_type": "markdown",
   "metadata": {},
   "source": [
    "### Implementation of transposition table"
   ]
  },
  {
   "cell_type": "code",
   "execution_count": null,
   "metadata": {},
   "outputs": [],
   "source": [
    "class PlaySetHash():\n",
    "    def __init__(self, key):\n",
    "        self.key = key\n",
    "        self.hash = reduce(lambda a,b: a^b, map(hash, key), 0)\n",
    "    def __hash__(self):\n",
    "        return self.hash\n",
    "    def __eq__(self, another):\n",
    "        return set(self.key) == set(another.key)\n",
    "\n",
    "class TranspositionNode(TicTacToeNode):\n",
    "    def __init__(self, is_and, position, depth, playset):\n",
    "        self.playset = playset\n",
    "        TicTacToeNode.__init__(self, is_and, position, depth)\n",
    "\n",
    "    def getExpandIterator(self):\n",
    "        for loc in getVacationsIterator(self.board):\n",
    "            player = flip(self.player)\n",
    "            playset = PlaySetHash(self.playset.key+[(loc,player)])\n",
    "            node = TranspositionNode.table.get(playset)\n",
    "            if not node:\n",
    "                node = TranspositionNode(not self.is_and,\n",
    "                                (self.board, loc, player), \n",
    "                                self.depth+1, \n",
    "                                playset)\n",
    "                TranspositionNode.table[playset] = node\n",
    "            yield node                \n",
    "\n",
    "    def __repr__(self):\n",
    "        INF2 = INF//2\n",
    "        pn = [\"\", \"pn=\"+str(self.proof_num)+\"; \"][self.proof_num < INF2]\n",
    "        dn = [\"\", \"dn=\"+str(self.disproof_num)+\"; \"][self.disproof_num < INF2]\n",
    "        return \"<\"+str(self.player)+\": \"+str(list(zip(*self.playset.key))[0])+ \\\n",
    "            [\" \",\" WIN\",\" LOOSE\",\" DRAW\"][\n",
    "                (self.proof_num==0)+((self.disproof_num==0)<<1)+\n",
    "                (self.proof_num>=INF2 and self.disproof_num>=INF2)*3\n",
    "            ]+pn+dn+\">\""
   ]
  },
  {
   "cell_type": "markdown",
   "metadata": {},
   "source": [
    "### Run TicTacToe PNS"
   ]
  },
  {
   "cell_type": "code",
   "execution_count": null,
   "metadata": {},
   "outputs": [],
   "source": [
    "test_board = np.array(\n",
    "        [[0,0,2,0],\n",
    "         [0,1,1,0],\n",
    "         [0,1,2,0],\n",
    "         [0,0,0,0]\n",
    "        ], dtype = int)\n",
    "TicTacToeNode.count = 0\n",
    "root = TicTacToeNode(False, (test_board, (3,3), 2), 6)\n",
    "iteratePNSearch(root, max_iterations=10000, max_nodes=70000)"
   ]
  },
  {
   "cell_type": "code",
   "execution_count": null,
   "metadata": {},
   "outputs": [],
   "source": [
    "test_board = np.array(\n",
    "        [[0,0,0,0],\n",
    "         [0,1,0,0],\n",
    "         [0,1,2,0],\n",
    "         [0,0,0,0]\n",
    "        ], dtype = int)\n",
    "TicTacToeNode.count = 0\n",
    "root = TicTacToeNode(False, (test_board, (0,2), 2), 4)\n",
    "iteratePNSearch(root, max_nodes=200000)"
   ]
  },
  {
   "cell_type": "code",
   "execution_count": null,
   "metadata": {},
   "outputs": [],
   "source": [
    "test_board = np.array(\n",
    "        [[0,0,2,0],\n",
    "         [0,1,1,0],\n",
    "         [0,1,2,0],\n",
    "         [0,0,0,0]\n",
    "        ], dtype = int)\n",
    "TicTacToeNode.count = 0\n",
    "TranspositionNode.table = {}\n",
    "trp_root = TranspositionNode(False, (test_board, (3,3), 2), 6, PlaySetHash([((0,2),2)]))\n",
    "iteratePNSearch(trp_root, max_nodes=50000)"
   ]
  },
  {
   "cell_type": "code",
   "execution_count": null,
   "metadata": {},
   "outputs": [],
   "source": [
    "print(RenderTree(root, childiter=lambda chld: filterfalse(lambda i: not i.isExpanded(), chld)))"
   ]
  },
  {
   "cell_type": "code",
   "execution_count": null,
   "metadata": {},
   "outputs": [],
   "source": [
    "root.children"
   ]
  },
  {
   "cell_type": "markdown",
   "metadata": {},
   "source": [
    "<font color=#404040>\n",
    "Some testing stuff\n",
    "</font>"
   ]
  },
  {
   "cell_type": "code",
   "execution_count": null,
   "metadata": {},
   "outputs": [],
   "source": [
    "ps1 = PlaySetHash([354,789,302])\n",
    "ps2 = PlaySetHash([789,302,354])\n",
    "ps3 = PlaySetHash([789,302,354,1])\n",
    "d = {}\n",
    "d[ps1] = ps1.key\n",
    "d[ps2] = ps2.key\n",
    "d[ps3] = ps3.key"
   ]
  },
  {
   "cell_type": "code",
   "execution_count": null,
   "metadata": {},
   "outputs": [],
   "source": [
    "True*3"
   ]
  }
 ],
 "metadata": {
  "kernelspec": {
   "display_name": "Python 3",
   "language": "python",
   "name": "python3"
  },
  "language_info": {
   "codemirror_mode": {
    "name": "ipython",
    "version": 3
   },
   "file_extension": ".py",
   "mimetype": "text/x-python",
   "name": "python",
   "nbconvert_exporter": "python",
   "pygments_lexer": "ipython3",
   "version": "3.7.3"
  }
 },
 "nbformat": 4,
 "nbformat_minor": 2
}
